{
 "cells": [
  {
   "cell_type": "markdown",
   "metadata": {},
   "source": [
    "# SQL operators"
   ]
  },
  {
   "cell_type": "markdown",
   "metadata": {},
   "source": [
    "SQL operators are important in database management systems (DBMS) as they allow us to manipulate and \n",
    "retrieve data efficiently. Operators in SQL perform arithmetic, logical, comparison, bitwise, and \n",
    "other operations to work with database values.\n",
    "\n",
    "**Types of SQL Operators**\n",
    "\n",
    "SQL operators can be categorized based on the type of operation they perform. Here are the primary types of SQL operators:\n",
    "\n",
    "- Arithmetic Operator\n",
    "- Comparison Operator\n",
    "- Logical Operator\n",
    "- Bitwise Operators\n",
    "- Compound Operators\n",
    "- Special Operators\n"
   ]
  },
  {
   "cell_type": "markdown",
   "metadata": {},
   "source": [
    "# 1. SQL Arithmetic Operators"
   ]
  },
  {
   "cell_type": "markdown",
   "metadata": {},
   "source": [
    "Arithmetic operators in SQL are used to perform mathematical operations on numeric data types in SQL queries."
   ]
  },
  {
   "cell_type": "markdown",
   "metadata": {},
   "source": [
    "- '+' The addition is used to perform an addition operation on the data values.\n",
    "\n",
    "- –\t This operator is used for the subtraction of the data values.\n",
    "\n",
    "- /\tThis operator works with the ‘ALL’ keyword and it calculates division operations.\n",
    "\n",
    "- '*' This operator is used for multiplying data values.\n",
    "\n",
    "- %\t Modulus is used to get the remainder when data is divided by another"
   ]
  },
  {
   "cell_type": "markdown",
   "metadata": {},
   "source": [
    "# 2. Comparison Operator"
   ]
  },
  {
   "cell_type": "markdown",
   "metadata": {},
   "source": [
    "SQL Comparison Operators test whether two given expressions are the same or not.\n",
    "\n",
    "Operator              ----              Description\tExample\n",
    "- =\tEqual to\t    -----                5 = 5 returns TRUE\n",
    "- !=\tNot equal\t-----                5 != 6 returns TRUE\n",
    "- <>\tNot equal\t-----               5 <> 4 returns TRUE\n",
    "- '>\tGreater than ----\t            4 > 5 returns FALSE\n",
    "- '<\tLess than\t-----                    4 < 5 returns TRUE\n",
    "- '>=\tGreater than or equal to ----\t4 >= 5 returns FALSE\n",
    "- <=\tLess than or equal to ----\t    4 <= 5 returns TRUE\n",
    "- !<\tNot less than\t----            4 !< 5 returns FALSE\n",
    "- !>\tNot greater than ---        4 !> 5 returns TRUE"
   ]
  },
  {
   "cell_type": "markdown",
   "metadata": {},
   "source": [
    "# 3. SQL Logical Operators\n",
    "SQL Logical Operators are very similar to comparison operators and they test for the truth of some given condition"
   ]
  },
  {
   "cell_type": "markdown",
   "metadata": {},
   "source": [
    "**Operator\t--- Description\tExample**\n",
    "- ALL\t- TRUE if all of a set of comparisons are TRUE.\n",
    "- AND - TRUE if all the conditions separated by AND are TRUE.\t\n",
    "- ANY - TRUE if any one of a set of comparisons are TRUE.\t\n",
    "- BETWEEN - TRUE if the operand lies within the range of comparisons.\t\n",
    "- EXISTS - TRUE if the subquery returns one or more records\t\n",
    "- IN - TRUE if the operand is equal to one of a list of expressions.\t\n",
    "- LIKE - TRUE if the operand matches a pattern specially with wildcard.\t\n",
    "- NOT - Reverses the value of any other Boolean operator.\t\n",
    "- OR\t- TRUE if any of the conditions separated by OR is TRUE\t\n",
    "- IS NULL - TRUE if the expression value is NULL.\t\n",
    "- SOME - TRUE if some of a set of comparisons are TRUE.\t\n",
    "- UNIQUE - The UNIQUE operator searches every row of a specified table for uniqueness (no duplicates).\t"
   ]
  },
  {
   "cell_type": "markdown",
   "metadata": {},
   "source": [
    "# 3. Logical Operators\n",
    "\n",
    "In SQL, logical operators are used to create conditional expressions that evaluates to either true or false. They are used in the WHERE clause of SELECT, UPDATE, DELETE, and other SQL statements to filter data based on specified conditions"
   ]
  },
  {
   "cell_type": "markdown",
   "metadata": {},
   "source": [
    "- ALL\t- TRUE if all of a set of comparisons are TRUE.\t\n",
    "- AND\tTRUE if all the conditions separated by AND are TRUE.\t\n",
    "- ANY\tTRUE if any one of a set of comparisons are TRUE.\t\n",
    "- BETWEEN\tTRUE if the operand lies within the range of comparisons.\t\n",
    "- EXISTS\tTRUE if the subquery returns one or more records\t\n",
    "- IN\tTRUE if the operand is equal to one of a list of expressions.\t\n",
    "- LIKE\tTRUE if the operand matches a pattern specially with wildcard.\t\n",
    "- NOT\tReverses the value of any other Boolean operator.\t\n",
    "- OR\tTRUE if any of the conditions separated by OR is TRUE\t\n",
    "- IS NULL\tTRUE if the expression value is NULL.\t\n",
    "- SOME\tTRUE if some of a set of comparisons are TRUE.\t\n",
    "- UNIQUE\tThe UNIQUE operator searches every row of a specified table for uniqueness (no duplicates)."
   ]
  },
  {
   "cell_type": "markdown",
   "metadata": {},
   "source": [
    "# SQL Table"
   ]
  },
  {
   "cell_type": "markdown",
   "metadata": {},
   "source": [
    "**CREATE Database Statement**\n",
    "The CREATE DATABASE statement is a DDL (Data Definition Language) statement used to create a new database in SQL."
   ]
  },
  {
   "cell_type": "markdown",
   "metadata": {},
   "source": [
    "In this sql ]]]"
   ]
  },
  {
   "cell_type": "markdown",
   "metadata": {},
   "source": [
    "CREATE DATABASE DatabaseName;"
   ]
  }
 ],
 "metadata": {
  "kernelspec": {
   "display_name": "base",
   "language": "python",
   "name": "python3"
  },
  "language_info": {
   "codemirror_mode": {
    "name": "ipython",
    "version": 3
   },
   "file_extension": ".py",
   "mimetype": "text/x-python",
   "name": "python",
   "nbconvert_exporter": "python",
   "pygments_lexer": "ipython3",
   "version": "3.12.7"
  }
 },
 "nbformat": 4,
 "nbformat_minor": 2
}
