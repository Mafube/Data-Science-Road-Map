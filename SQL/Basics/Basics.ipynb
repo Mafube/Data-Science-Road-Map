{
 "cells": [
  {
   "cell_type": "markdown",
   "metadata": {},
   "source": [
    "# SQL operators"
   ]
  },
  {
   "cell_type": "markdown",
   "metadata": {},
   "source": [
    "SQL operators are important in database management systems (DBMS) as they allow us to manipulate and \n",
    "retrieve data efficiently. Operators in SQL perform arithmetic, logical, comparison, bitwise, and \n",
    "other operations to work with database values.\n",
    "\n",
    "**Types of SQL Operators**\n",
    "\n",
    "SQL operators can be categorized based on the type of operation they perform. Here are the primary types of SQL operators:\n",
    "\n",
    "- Arithmetic Operator\n",
    "- Comparison Operator\n",
    "- Logical Operator\n",
    "- Bitwise Operators\n",
    "- Compound Operators\n",
    "- Special Operators\n"
   ]
  },
  {
   "cell_type": "markdown",
   "metadata": {},
   "source": [
    "# SQL Arithmetic Operators"
   ]
  },
  {
   "cell_type": "markdown",
   "metadata": {},
   "source": [
    "Arithmetic operators in SQL are used to perform mathematical operations on numeric data types in SQL queries."
   ]
  },
  {
   "cell_type": "markdown",
   "metadata": {},
   "source": [
    "- '+' The addition is used to perform an addition operation on the data values.\n",
    "\n",
    "- –\t This operator is used for the subtraction of the data values.\n",
    "\n",
    "- /\tThis operator works with the ‘ALL’ keyword and it calculates division operations.\n",
    "\n",
    "- '*' This operator is used for multiplying data values.\n",
    "\n",
    "- %\t Modulus is used to get the remainder when data is divided by another"
   ]
  },
  {
   "cell_type": "code",
   "execution_count": null,
   "metadata": {},
   "outputs": [],
   "source": []
  }
 ],
 "metadata": {
  "kernelspec": {
   "display_name": "base",
   "language": "python",
   "name": "python3"
  },
  "language_info": {
   "codemirror_mode": {
    "name": "ipython",
    "version": 3
   },
   "file_extension": ".py",
   "mimetype": "text/x-python",
   "name": "python",
   "nbconvert_exporter": "python",
   "pygments_lexer": "ipython3",
   "version": "3.12.7"
  }
 },
 "nbformat": 4,
 "nbformat_minor": 2
}
